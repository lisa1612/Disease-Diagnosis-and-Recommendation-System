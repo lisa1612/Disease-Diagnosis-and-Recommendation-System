{
 "cells": [
  {
   "cell_type": "code",
   "execution_count": 2,
   "id": "402b6159",
   "metadata": {},
   "outputs": [
    {
     "name": "stdout",
     "output_type": "stream",
     "text": [
      "Enter the following information:\n",
      "Temperature (F): 100\n",
      "Pulse rate (bpm): 90\n",
      "Vomiting (0 or 1): 1\n",
      "Yellowish Urine (0 or 1): 0\n",
      "Indigestion (0 or 1): 1\n",
      "Predicted Disease: 0\n"
     ]
    }
   ],
   "source": [
    "import pandas as pd\n",
    "from sklearn.model_selection import train_test_split\n",
    "from sklearn.preprocessing import StandardScaler\n",
    "from sklearn.ensemble import RandomForestClassifier\n",
    "from sklearn.metrics import accuracy_score, classification_report, confusion_matrix\n",
    "\n",
    "# Load and preprocess the dataset\n",
    "dataset = pd.read_csv(\"general.csv\")\n",
    "X = dataset.drop('Disease', axis=1)\n",
    "y = dataset['Disease']\n",
    "scaler = StandardScaler()\n",
    "X = scaler.fit_transform(X)\n",
    "\n",
    "# Train the model\n",
    "model = RandomForestClassifier(random_state=42)\n",
    "model.fit(X, y)\n",
    "\n",
    "# Function to get user input and predict the disease\n",
    "def predict_disease():\n",
    "    print(\"Enter the following information:\")\n",
    "    temp_f = float(input(\"Temperature (F): \"))\n",
    "    pulse_rate_bpm = float(input(\"Pulse rate (bpm): \"))\n",
    "    vomiting = int(input(\"Vomiting (0 or 1): \"))\n",
    "    yellowish_urine = int(input(\"Yellowish Urine (0 or 1): \"))\n",
    "    indigestion = int(input(\"Indigestion (0 or 1): \"))\n",
    "\n",
    "    # Prepare user input as a single-row DataFrame\n",
    "    user_input = pd.DataFrame({\n",
    "        'Temp (F)': [temp_f],\n",
    "        'Pulse rate (bpm)': [pulse_rate_bpm],\n",
    "        'Vomiting': [vomiting],\n",
    "        'Yellowish Urine': [yellowish_urine],\n",
    "        'Indigestion': [indigestion]\n",
    "    })\n",
    "\n",
    "    # Standardize the user input\n",
    "    user_input = scaler.transform(user_input)\n",
    "\n",
    "    # Make prediction\n",
    "    predicted_disease = model.predict(user_input)[0]\n",
    "    print(f\"Predicted Disease: {predicted_disease}\")\n",
    "\n",
    "# Call the predict_disease function to allow the user to input attributes and get predictions\n",
    "predict_disease()\n"
   ]
  },
  {
   "cell_type": "code",
   "execution_count": 3,
   "id": "c0399a3f",
   "metadata": {},
   "outputs": [
    {
     "name": "stdout",
     "output_type": "stream",
     "text": [
      "Accuracy: 0.954954954954955\n",
      "Classification Report:\n",
      "              precision    recall  f1-score   support\n",
      "\n",
      "           0       1.00      0.95      0.98        21\n",
      "           1       0.85      0.96      0.90        24\n",
      "           2       0.96      1.00      0.98        22\n",
      "           3       1.00      0.96      0.98        23\n",
      "           4       1.00      0.90      0.95        21\n",
      "\n",
      "    accuracy                           0.95       111\n",
      "   macro avg       0.96      0.95      0.96       111\n",
      "weighted avg       0.96      0.95      0.96       111\n",
      "\n",
      "Confusion Matrix:\n",
      "[[20  1  0  0  0]\n",
      " [ 0 23  1  0  0]\n",
      " [ 0  0 22  0  0]\n",
      " [ 0  1  0 22  0]\n",
      " [ 0  2  0  0 19]]\n"
     ]
    }
   ],
   "source": [
    "y_pred = model.predict(X)\n",
    "accuracy = accuracy_score(y, y_pred)\n",
    "print(f'Accuracy: {accuracy}')\n",
    "\n",
    "print('Classification Report:')\n",
    "print(classification_report(y, y_pred))\n",
    "\n",
    "print('Confusion Matrix:')\n",
    "print(confusion_matrix(y, y_pred))"
   ]
  },
  {
   "cell_type": "code",
   "execution_count": 4,
   "id": "ddb88547",
   "metadata": {},
   "outputs": [],
   "source": [
    "import pickle\n",
    "\n",
    "# Assuming 'model' is the new RandomForestClassifier model trained in the provided notebook\n",
    "with open('new_model.pkl', 'wb') as f:\n",
    "    pickle.dump(model, f)\n"
   ]
  },
  {
   "cell_type": "code",
   "execution_count": null,
   "id": "014d9a18",
   "metadata": {},
   "outputs": [],
   "source": []
  }
 ],
 "metadata": {
  "kernelspec": {
   "display_name": "Python 3 (ipykernel)",
   "language": "python",
   "name": "python3"
  },
  "language_info": {
   "codemirror_mode": {
    "name": "ipython",
    "version": 3
   },
   "file_extension": ".py",
   "mimetype": "text/x-python",
   "name": "python",
   "nbconvert_exporter": "python",
   "pygments_lexer": "ipython3",
   "version": "3.11.3"
  }
 },
 "nbformat": 4,
 "nbformat_minor": 5
}
